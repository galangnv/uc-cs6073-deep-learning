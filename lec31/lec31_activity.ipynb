{
 "cells": [
  {
   "cell_type": "markdown",
   "metadata": {},
   "source": [
    "# Lec 31: Variational Autoencoders II and GANs I"
   ]
  },
  {
   "cell_type": "markdown",
   "metadata": {},
   "source": [
    "## Instructions\n",
    "Build a Convolutional VAE for the EuroSAT dataset\n",
    "\n",
    "1. Demonstrate by plotting original and reconstructed images that your model is performing well. You are free to choose your model configuration and any hyperparameters\n",
    "2. Plot the reconstructed images from the mean of latent representations for 'industrial buildings'  and 'forest' classes\n",
    "3. Plot the transition from 'industrial buildings' to 'forest' by moving in the latent space from one class to another in 10 steps and generating the full images using the decoder"
   ]
  },
  {
   "cell_type": "markdown",
   "metadata": {},
   "source": [
    "## Imports"
   ]
  },
  {
   "cell_type": "code",
   "execution_count": 1,
   "metadata": {},
   "outputs": [],
   "source": [
    "# PyTorch imports\n",
    "import torch"
   ]
  },
  {
   "cell_type": "code",
   "execution_count": 2,
   "metadata": {},
   "outputs": [],
   "source": [
    "# Import helper functions\n",
    "from helpers.helper_utils import set_all_seeds\n",
    "from helpers.helper_data import get_dataloaders_eurosat"
   ]
  },
  {
   "cell_type": "markdown",
   "metadata": {},
   "source": [
    "## Settings"
   ]
  },
  {
   "cell_type": "code",
   "execution_count": null,
   "metadata": {},
   "outputs": [],
   "source": [
    "# Hyperparameters\n",
    "LEARNING_RATE = 0.0005\n",
    "BATCH_SIZE = 256\n",
    "NUM_EPOCHS = 100\n",
    "\n",
    "# Other settings\n",
    "DEVICE = torch.device(f'cuda:0' if torch.cuda.is_available() else 'cpu')\n",
    "RANDOM_SEED = 123"
   ]
  },
  {
   "cell_type": "code",
   "execution_count": null,
   "metadata": {},
   "outputs": [],
   "source": [
    "set_all_seeds(RANDOM_SEED)"
   ]
  },
  {
   "cell_type": "markdown",
   "metadata": {},
   "source": [
    "## EuroSAT Dataset"
   ]
  },
  {
   "cell_type": "markdown",
   "metadata": {},
   "source": [
    "### Data Loader"
   ]
  },
  {
   "cell_type": "code",
   "execution_count": null,
   "metadata": {},
   "outputs": [],
   "source": [
    "train_loader = get_dataloaders_eurosat(BATCH_SIZE, num_workers=8)\n",
    "\n",
    "# Verify dataset\n",
    "print('Train Dataset:')\n",
    "for images, labels in train_loader:\n",
    "    print(f'Image batch dimensions: {images.size()}')\n",
    "    print(f'Image label dimensions: {labels.size()}')\n",
    "    break"
   ]
  },
  {
   "cell_type": "markdown",
   "metadata": {},
   "source": [
    "## Model"
   ]
  },
  {
   "cell_type": "markdown",
   "metadata": {},
   "source": [
    "## Training"
   ]
  }
 ],
 "metadata": {
  "kernelspec": {
   "display_name": "Python 3.10.6 ('cs6073-dl')",
   "language": "python",
   "name": "python3"
  },
  "language_info": {
   "codemirror_mode": {
    "name": "ipython",
    "version": 3
   },
   "file_extension": ".py",
   "mimetype": "text/x-python",
   "name": "python",
   "nbconvert_exporter": "python",
   "pygments_lexer": "ipython3",
   "version": "3.10.6"
  },
  "orig_nbformat": 4,
  "vscode": {
   "interpreter": {
    "hash": "089acdbd81e861025207d6d06022757a580b22f8df3c6d0545687bfdaaf39b00"
   }
  }
 },
 "nbformat": 4,
 "nbformat_minor": 2
}
